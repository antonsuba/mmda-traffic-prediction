{
 "cells": [
  {
   "cell_type": "code",
   "execution_count": 1,
   "metadata": {},
   "outputs": [],
   "source": [
    "%matplotlib inline\n",
    "import math\n",
    "import pandas as pd\n",
    "import matplotlib as plt\n",
    "import numpy as np\n",
    "import seaborn as sns; sns.set(style='ticks', color_codes=True)\n",
    "\n",
    "from pandas.plotting import parallel_coordinates\n",
    "from sklearn import preprocessing\n",
    "from operator import itemgetter\n",
    "\n",
    "from sklearn.preprocessing import Imputer\n",
    "from sklearn.preprocessing import MultiLabelBinarizer\n",
    "from sklearn.naive_bayes import GaussianNB\n",
    "from sklearn.externals import joblib\n",
    "\n",
    "# pd.set_option('display.max_columns', 150)\n",
    "pd.options.display.max_seq_items = 200"
   ]
  },
  {
   "cell_type": "code",
   "execution_count": 2,
   "metadata": {},
   "outputs": [],
   "source": [
    "TRAIN_DATA = 'data/train.csv'\n",
    "TEST_DATA = 'data/test.csv'\n",
    "CLEAN_TRAIN_DATA = 'data/clean_train_data.csv'\n",
    "NOISE_COLUMNS = ['Key', 'No', 'District', 'City', 'Hour', 'Minute', 'Date', 'Month', 'Year',\n",
    "                'JunctionControl', 'dayInWeek', 'IsDayOrNight', 'CollisionDirection', 'DetailCause',\n",
    "                'Tricycle']\n",
    "ONE_HOT_COLUMNS = ['CollisionType', 'JunctionType']"
   ]
  },
  {
   "cell_type": "code",
   "execution_count": 3,
   "metadata": {},
   "outputs": [],
   "source": [
    "#Normalization\n",
    "\n",
    "def normalize_max_unknown(vector):\n",
    "    min = np.min(vector)\n",
    "    max = np.max(vector)\n",
    "        \n",
    "    return [(x - float(min)) / (float(max) - float(min)) for x in vector]"
   ]
  },
  {
   "cell_type": "code",
   "execution_count": 4,
   "metadata": {},
   "outputs": [],
   "source": [
    "#Data Visualization\n",
    "\n",
    "def parallel_lines(df, target_category):\n",
    "    plt.pyplot.figure(figsize=(30,10))\n",
    "\n",
    "    parallel_plt = parallel_coordinates(df, target_category)\n",
    "#     plt.pyplot.savefig('%s_parallel.png' % target_category)\n",
    "    \n",
    "def scatter_plot(df, target_category):\n",
    "    scatter_plt = sns.pairplot(df, hue=target_category)\n",
    "    scatter_plt.savefig('%s_scatter.png' % target_category)"
   ]
  },
  {
   "cell_type": "code",
   "execution_count": 5,
   "metadata": {},
   "outputs": [],
   "source": [
    "def generate_arr(dataset, classification):\n",
    "    classification_arr = dataset[classification].values\n",
    "    del dataset[classification]\n",
    "    dataset_arr = dataset.values\n",
    "\n",
    "    return dataset_arr, classification_arr"
   ]
  },
  {
   "cell_type": "code",
   "execution_count": 6,
   "metadata": {
    "scrolled": true
   },
   "outputs": [
    {
     "name": "stderr",
     "output_type": "stream",
     "text": [
      "/home/anton/Dev/mmda-traffic-prediction/env/lib/python3.5/site-packages/IPython/core/interactiveshell.py:2728: DtypeWarning: Columns (1,29) have mixed types. Specify dtype option on import or set low_memory=False.\n",
      "  interactivity=interactivity, compiler=compiler, result=result)\n"
     ]
    }
   ],
   "source": [
    "mmda_df = pd.read_csv(TRAIN_DATA)\n",
    "mmda_df = mmda_df.drop(NOISE_COLUMNS, axis=1)"
   ]
  },
  {
   "cell_type": "code",
   "execution_count": 7,
   "metadata": {},
   "outputs": [],
   "source": [
    "mmda_df_one_hot = pd.get_dummies(mmda_df, prefix=ONE_HOT_COLUMNS, columns=ONE_HOT_COLUMNS)\n",
    "\n",
    "imputer = Imputer(strategy='median')\n",
    "imputer.fit(mmda_df_one_hot)\n",
    "imputer_result = imputer.transform(mmda_df_one_hot)\n",
    "\n",
    "mmda_df_clean = pd.DataFrame(imputer_result, columns=mmda_df_one_hot.columns)\n",
    "\n",
    "mmda_df_clean.to_csv(CLEAN_TRAIN_DATA)"
   ]
  },
  {
   "cell_type": "code",
   "execution_count": 8,
   "metadata": {},
   "outputs": [],
   "source": [
    "mmda_df_clean = pd.read_csv(CLEAN_TRAIN_DATA)\n",
    "# corr_matrix = mmda_df_clean.corr()\n",
    "# corr_matrix['Classification_1'].sort_values(ascending=False)"
   ]
  },
  {
   "cell_type": "code",
   "execution_count": 9,
   "metadata": {
    "scrolled": true
   },
   "outputs": [],
   "source": [
    "mmda_arr, classification_arr = generate_arr(mmda_df_clean, 'Classification')\n",
    "# labels = [[x] for x in classification_arr]\n",
    "# binary_labels = MultiLabelBinarizer().fit_transform(labels)\n",
    "# binary_labels"
   ]
  },
  {
   "cell_type": "code",
   "execution_count": 10,
   "metadata": {},
   "outputs": [
    {
     "ename": "NameError",
     "evalue": "name 'joblib' is not defined",
     "output_type": "error",
     "traceback": [
      "\u001b[0;31m---------------------------------------------------------------------------\u001b[0m",
      "\u001b[0;31mNameError\u001b[0m                                 Traceback (most recent call last)",
      "\u001b[0;32m<ipython-input-10-5954a113273c>\u001b[0m in \u001b[0;36m<module>\u001b[0;34m()\u001b[0m\n\u001b[1;32m      1\u001b[0m \u001b[0mclf\u001b[0m \u001b[0;34m=\u001b[0m \u001b[0mGaussianNB\u001b[0m\u001b[0;34m(\u001b[0m\u001b[0;34m)\u001b[0m\u001b[0;34m\u001b[0m\u001b[0m\n\u001b[1;32m      2\u001b[0m \u001b[0mclf\u001b[0m\u001b[0;34m.\u001b[0m\u001b[0mfit\u001b[0m\u001b[0;34m(\u001b[0m\u001b[0mmmda_arr\u001b[0m\u001b[0;34m,\u001b[0m \u001b[0mclassification_arr\u001b[0m\u001b[0;34m)\u001b[0m\u001b[0;34m\u001b[0m\u001b[0m\n\u001b[0;32m----> 3\u001b[0;31m \u001b[0mjoblib\u001b[0m\u001b[0;34m.\u001b[0m\u001b[0mdump\u001b[0m\u001b[0;34m(\u001b[0m\u001b[0mclf\u001b[0m\u001b[0;34m,\u001b[0m \u001b[0;34m'mmda_predictor.pkl'\u001b[0m\u001b[0;34m)\u001b[0m\u001b[0;34m\u001b[0m\u001b[0m\n\u001b[0m",
      "\u001b[0;31mNameError\u001b[0m: name 'joblib' is not defined"
     ]
    }
   ],
   "source": [
    "clf = GaussianNB()\n",
    "clf.fit(mmda_arr, classification_arr)\n",
    "joblib.dump(clf, 'mmda_predictor.pkl')"
   ]
  },
  {
   "cell_type": "code",
   "execution_count": null,
   "metadata": {},
   "outputs": [],
   "source": []
  }
 ],
 "metadata": {
  "kernelspec": {
   "display_name": "Python 3",
   "language": "python",
   "name": "python3"
  },
  "language_info": {
   "codemirror_mode": {
    "name": "ipython",
    "version": 3
   },
   "file_extension": ".py",
   "mimetype": "text/x-python",
   "name": "python",
   "nbconvert_exporter": "python",
   "pygments_lexer": "ipython3",
   "version": "3.5.2"
  }
 },
 "nbformat": 4,
 "nbformat_minor": 2
}

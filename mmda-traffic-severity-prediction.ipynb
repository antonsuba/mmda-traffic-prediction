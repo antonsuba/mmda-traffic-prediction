{
 "cells": [
  {
   "cell_type": "code",
   "execution_count": 58,
   "metadata": {
    "collapsed": false
   },
   "outputs": [],
   "source": [
    "%matplotlib inline\n",
    "import math\n",
    "import pandas as pd\n",
    "import matplotlib as plt\n",
    "import numpy as np\n",
    "import seaborn as sns; sns.set(style='ticks', color_codes=True)\n",
    "\n",
    "# from pandas.plotting import parallel_coordinates\n",
    "from sklearn import preprocessing\n",
    "from operator import itemgetter\n",
    "\n",
    "from sklearn.preprocessing import Imputer\n",
    "from sklearn.preprocessing import MultiLabelBinarizer\n",
    "from sklearn.naive_bayes import GaussianNB\n",
    "from sklearn.externals import joblib\n",
    "\n",
    "# pd.set_option('display.max_columns', 150)\n",
    "pd.options.display.max_seq_items = 200"
   ]
  },
  {
   "cell_type": "code",
   "execution_count": 59,
   "metadata": {
    "collapsed": true
   },
   "outputs": [],
   "source": [
    "TRAIN_DATA = 'data/train.csv'\n",
    "TEST_DATA = 'data/test.csv'\n",
    "CLEAN_TRAIN_DATA = 'data/clean_train_data.csv'\n",
    "NOISE_COLUMNS = ['Key', 'No', 'District', 'City', 'Hour', 'Minute', 'Date', 'Month', 'Year',\n",
    "                'JunctionControl', 'dayInWeek', 'IsDayOrNight', 'CollisionDirection', 'DetailCause',\n",
    "                'Tricycle', 'Weather']\n",
    "NORMALIZE_COLUMNS = ['DriversKilled', 'DriversInjured', 'PassengerInjured', 'PassengerKilled', 'PedestrianKilled',\n",
    "                 'PedestrianInjured', 'NumPedestrianVictim']\n",
    "ONE_HOT_COLUMNS = ['CollisionType', 'JunctionType']"
   ]
  },
  {
   "cell_type": "code",
   "execution_count": 60,
   "metadata": {
    "collapsed": true
   },
   "outputs": [],
   "source": [
    "#Normalization\n",
    "\n",
    "def normalize_df(df_base, columns):\n",
    "    df = df_base.copy()\n",
    "    for column in columns:\n",
    "        df[column] = normalize_max_unknown(df[column])\n",
    "    \n",
    "    return df\n",
    "\n",
    "def normalize_max_unknown(vector):\n",
    "    min = np.min(vector)\n",
    "    max = np.max(vector)\n",
    "        \n",
    "    return [(x - float(min)) / (float(max) - float(min)) for x in vector]"
   ]
  },
  {
   "cell_type": "code",
   "execution_count": 61,
   "metadata": {
    "collapsed": true
   },
   "outputs": [],
   "source": [
    "#Data Visualization\n",
    "\n",
    "def parallel_lines(df, target_category):\n",
    "    plt.pyplot.figure(figsize=(30,10))\n",
    "\n",
    "    parallel_plt = parallel_coordinates(df, target_category)\n",
    "#     plt.pyplot.savefig('%s_parallel.png' % target_category)\n",
    "    \n",
    "def scatter_plot(df, target_category):\n",
    "    scatter_plt = sns.pairplot(df, hue=target_category)\n",
    "    scatter_plt.savefig('%s_scatter.png' % target_category)"
   ]
  },
  {
   "cell_type": "code",
   "execution_count": 62,
   "metadata": {
    "collapsed": true
   },
   "outputs": [],
   "source": [
    "def generate_arr(dataset, classification):\n",
    "    classification_arr = dataset[classification].values\n",
    "    del dataset[classification]\n",
    "    dataset_arr = dataset.values\n",
    "\n",
    "    return dataset_arr, classification_arr\n",
    "\n",
    "def impute_columns(df_base, columns):\n",
    "    df = df_base.copy()\n",
    "    for column in columns:\n",
    "        df[column] = df[column].fillna(float(0.00))\n",
    "        \n",
    "    return df"
   ]
  },
  {
   "cell_type": "code",
   "execution_count": 63,
   "metadata": {
    "collapsed": false,
    "scrolled": true
   },
   "outputs": [],
   "source": [
    "mmda_df = pd.read_csv(TRAIN_DATA)\n",
    "mmda_df = mmda_df.drop(NOISE_COLUMNS, axis=1)"
   ]
  },
  {
   "cell_type": "code",
   "execution_count": 64,
   "metadata": {
    "collapsed": false
   },
   "outputs": [],
   "source": [
    "mmda_df_one_hot = pd.get_dummies(mmda_df, prefix=ONE_HOT_COLUMNS, columns=ONE_HOT_COLUMNS)\n",
    "\n",
    "imputer = Imputer(strategy='most_frequent')\n",
    "imputer.fit(mmda_df_one_hot)\n",
    "imputer_result = imputer.transform(mmda_df_one_hot)\n",
    "\n",
    "mmda_df_clean = pd.DataFrame(imputer_result, columns=mmda_df_one_hot.columns)\n",
    "# mmda_df_clean = impute_columns(mmda_df_one_hot, NORMALIZE_COLUMNS)\n",
    "mmda_df_clean = normalize_df(mmda_df_clean, NORMALIZE_COLUMNS)\n",
    "\n",
    "mmda_df_clean.to_csv(CLEAN_TRAIN_DATA)"
   ]
  },
  {
   "cell_type": "code",
   "execution_count": 65,
   "metadata": {
    "collapsed": true
   },
   "outputs": [],
   "source": [
    "# mmda_df_clean = pd.read_csv(CLEAN_TRAIN_DATA)\n",
    "# corr_matrix = mmda_df_clean.corr()\n",
    "# corr_matrix['Classification_1'].sort_values(ascending=False)"
   ]
  },
  {
   "cell_type": "code",
   "execution_count": 66,
   "metadata": {
    "collapsed": true,
    "scrolled": true
   },
   "outputs": [],
   "source": [
    "mmda_arr, classification_arr = generate_arr(mmda_df_clean, 'Classification')\n",
    "# labels = [[x] for x in classification_arr]\n",
    "# binary_labels = MultiLabelBinarizer().fit_transform(labels)\n",
    "# binary_labels"
   ]
  },
  {
   "cell_type": "code",
   "execution_count": 85,
   "metadata": {
    "collapsed": false
   },
   "outputs": [
    {
     "data": {
      "text/plain": [
       "123"
      ]
     },
     "execution_count": 85,
     "metadata": {},
     "output_type": "execute_result"
    }
   ],
   "source": [
    "mmda_df_clean\n",
    "len(mmda_arr[0])"
   ]
  },
  {
   "cell_type": "code",
   "execution_count": 68,
   "metadata": {
    "collapsed": false
   },
   "outputs": [
    {
     "data": {
      "text/plain": [
       "['mmda_predictor.pkl']"
      ]
     },
     "execution_count": 68,
     "metadata": {},
     "output_type": "execute_result"
    }
   ],
   "source": [
    "clf = GaussianNB()\n",
    "clf.fit(mmda_arr, classification_arr)\n",
    "joblib.dump(clf, 'mmda_predictor.pkl')"
   ]
  },
  {
   "cell_type": "code",
   "execution_count": 86,
   "metadata": {
    "collapsed": false
   },
   "outputs": [
    {
     "name": "stderr",
     "output_type": "stream",
     "text": [
      "C:\\Users\\anton\\Anaconda2\\lib\\site-packages\\ipykernel\\__main__.py:14: RuntimeWarning: invalid value encountered in double_scalars\n"
     ]
    },
    {
     "data": {
      "text/plain": [
       "114"
      ]
     },
     "execution_count": 86,
     "metadata": {},
     "output_type": "execute_result"
    }
   ],
   "source": [
    "#Model Validation\n",
    "\n",
    "NOISE_TEST_COLUMNS = ['Key', 'District', 'City', 'Hour', 'Minute', 'Date', 'Month', 'Year',\n",
    "                'JunctionControl', 'dayInWeek', 'IsDayOrNight', 'CollisionDirection', 'DetailCause',\n",
    "                'Tricycle', 'Weather']\n",
    "\n",
    "mmda_df_test = pd.read_csv(TEST_DATA)\n",
    "mmda_df_test = mmda_df_test.drop(NOISE_TEST_COLUMNS, axis=1)\n",
    "\n",
    "mmda_df_one_hot = pd.get_dummies(mmda_df_test, prefix=ONE_HOT_COLUMNS, columns=ONE_HOT_COLUMNS)\n",
    "\n",
    "# mmda_df_one_hot['DriversKilled'].iloc[0] = float(0)\n",
    "# mmda_df_one_hot['PassengerKilled'].iloc[0] = float(0)\n",
    "# mmda_df_one_hot['PedestrianKilled'].iloc[0] = float(0)\n",
    "\n",
    "imputer = Imputer(strategy='most_frequent')\n",
    "imputer.fit(mmda_df_one_hot)\n",
    "imputer_result = imputer.transform(mmda_df_one_hot)\n",
    "\n",
    "mmda_df_clean = pd.DataFrame(imputer_result, columns=mmda_df_one_hot.columns)\n",
    "# mmda_df_clean = impute_columns(mmda_df_one_hot, NORMALIZE_COLUMNS)\n",
    "mmda_df_clean = normalize_df(mmda_df_clean, NORMALIZE_COLUMNS)\n",
    "\n",
    "mmda_df_test_clean['DriversKilled'] = mmda_df_test_clean['DriversKilled'].fillna(0.0)\n",
    "mmda_df_test_clean['PassengerKilled'] = mmda_df_test_clean['PassengerKilled'].fillna(0.0)\n",
    "mmda_df_test_clean['PedestrianKilled'] = mmda_df_test_clean['PedestrianKilled'].fillna(0.0)\n",
    "\n",
    "mmda_test_arr = mmda_df_test_clean.values\n",
    "len(mmda_test_arr[0])"
   ]
  },
  {
   "cell_type": "code",
   "execution_count": 84,
   "metadata": {
    "collapsed": false
   },
   "outputs": [
    {
     "ename": "ValueError",
     "evalue": "operands could not be broadcast together with shapes (16485,114) (123,) ",
     "output_type": "error",
     "traceback": [
      "\u001b[0;31m---------------------------------------------------------------------------\u001b[0m",
      "\u001b[0;31mValueError\u001b[0m                                Traceback (most recent call last)",
      "\u001b[0;32m<ipython-input-84-9e232759715e>\u001b[0m in \u001b[0;36m<module>\u001b[0;34m()\u001b[0m\n\u001b[0;32m----> 1\u001b[0;31m \u001b[0mpred\u001b[0m \u001b[1;33m=\u001b[0m \u001b[0mclf\u001b[0m\u001b[1;33m.\u001b[0m\u001b[0mpredict\u001b[0m\u001b[1;33m(\u001b[0m\u001b[0mmmda_test_arr\u001b[0m\u001b[1;33m)\u001b[0m\u001b[1;33m\u001b[0m\u001b[0m\n\u001b[0m\u001b[1;32m      2\u001b[0m \u001b[0mpred\u001b[0m\u001b[1;33m\u001b[0m\u001b[0m\n",
      "\u001b[0;32mC:\\Users\\anton\\Anaconda2\\lib\\site-packages\\sklearn\\naive_bayes.py\u001b[0m in \u001b[0;36mpredict\u001b[0;34m(self, X)\u001b[0m\n\u001b[1;32m     63\u001b[0m             \u001b[0mPredicted\u001b[0m \u001b[0mtarget\u001b[0m \u001b[0mvalues\u001b[0m \u001b[1;32mfor\u001b[0m \u001b[0mX\u001b[0m\u001b[1;33m\u001b[0m\u001b[0m\n\u001b[1;32m     64\u001b[0m         \"\"\"\n\u001b[0;32m---> 65\u001b[0;31m         \u001b[0mjll\u001b[0m \u001b[1;33m=\u001b[0m \u001b[0mself\u001b[0m\u001b[1;33m.\u001b[0m\u001b[0m_joint_log_likelihood\u001b[0m\u001b[1;33m(\u001b[0m\u001b[0mX\u001b[0m\u001b[1;33m)\u001b[0m\u001b[1;33m\u001b[0m\u001b[0m\n\u001b[0m\u001b[1;32m     66\u001b[0m         \u001b[1;32mreturn\u001b[0m \u001b[0mself\u001b[0m\u001b[1;33m.\u001b[0m\u001b[0mclasses_\u001b[0m\u001b[1;33m[\u001b[0m\u001b[0mnp\u001b[0m\u001b[1;33m.\u001b[0m\u001b[0margmax\u001b[0m\u001b[1;33m(\u001b[0m\u001b[0mjll\u001b[0m\u001b[1;33m,\u001b[0m \u001b[0maxis\u001b[0m\u001b[1;33m=\u001b[0m\u001b[1;36m1\u001b[0m\u001b[1;33m)\u001b[0m\u001b[1;33m]\u001b[0m\u001b[1;33m\u001b[0m\u001b[0m\n\u001b[1;32m     67\u001b[0m \u001b[1;33m\u001b[0m\u001b[0m\n",
      "\u001b[0;32mC:\\Users\\anton\\Anaconda2\\lib\\site-packages\\sklearn\\naive_bayes.py\u001b[0m in \u001b[0;36m_joint_log_likelihood\u001b[0;34m(self, X)\u001b[0m\n\u001b[1;32m    427\u001b[0m             \u001b[0mjointi\u001b[0m \u001b[1;33m=\u001b[0m \u001b[0mnp\u001b[0m\u001b[1;33m.\u001b[0m\u001b[0mlog\u001b[0m\u001b[1;33m(\u001b[0m\u001b[0mself\u001b[0m\u001b[1;33m.\u001b[0m\u001b[0mclass_prior_\u001b[0m\u001b[1;33m[\u001b[0m\u001b[0mi\u001b[0m\u001b[1;33m]\u001b[0m\u001b[1;33m)\u001b[0m\u001b[1;33m\u001b[0m\u001b[0m\n\u001b[1;32m    428\u001b[0m             \u001b[0mn_ij\u001b[0m \u001b[1;33m=\u001b[0m \u001b[1;33m-\u001b[0m \u001b[1;36m0.5\u001b[0m \u001b[1;33m*\u001b[0m \u001b[0mnp\u001b[0m\u001b[1;33m.\u001b[0m\u001b[0msum\u001b[0m\u001b[1;33m(\u001b[0m\u001b[0mnp\u001b[0m\u001b[1;33m.\u001b[0m\u001b[0mlog\u001b[0m\u001b[1;33m(\u001b[0m\u001b[1;36m2.\u001b[0m \u001b[1;33m*\u001b[0m \u001b[0mnp\u001b[0m\u001b[1;33m.\u001b[0m\u001b[0mpi\u001b[0m \u001b[1;33m*\u001b[0m \u001b[0mself\u001b[0m\u001b[1;33m.\u001b[0m\u001b[0msigma_\u001b[0m\u001b[1;33m[\u001b[0m\u001b[0mi\u001b[0m\u001b[1;33m,\u001b[0m \u001b[1;33m:\u001b[0m\u001b[1;33m]\u001b[0m\u001b[1;33m)\u001b[0m\u001b[1;33m)\u001b[0m\u001b[1;33m\u001b[0m\u001b[0m\n\u001b[0;32m--> 429\u001b[0;31m             n_ij -= 0.5 * np.sum(((X - self.theta_[i, :]) ** 2) /\n\u001b[0m\u001b[1;32m    430\u001b[0m                                  (self.sigma_[i, :]), 1)\n\u001b[1;32m    431\u001b[0m             \u001b[0mjoint_log_likelihood\u001b[0m\u001b[1;33m.\u001b[0m\u001b[0mappend\u001b[0m\u001b[1;33m(\u001b[0m\u001b[0mjointi\u001b[0m \u001b[1;33m+\u001b[0m \u001b[0mn_ij\u001b[0m\u001b[1;33m)\u001b[0m\u001b[1;33m\u001b[0m\u001b[0m\n",
      "\u001b[0;31mValueError\u001b[0m: operands could not be broadcast together with shapes (16485,114) (123,) "
     ]
    }
   ],
   "source": [
    "pred = clf.predict(mmda_test_arr)\n",
    "pred"
   ]
  },
  {
   "cell_type": "code",
   "execution_count": null,
   "metadata": {
    "collapsed": true
   },
   "outputs": [],
   "source": []
  }
 ],
 "metadata": {
  "kernelspec": {
   "display_name": "Python 2",
   "language": "python",
   "name": "python2"
  },
  "language_info": {
   "codemirror_mode": {
    "name": "ipython",
    "version": 2
   },
   "file_extension": ".py",
   "mimetype": "text/x-python",
   "name": "python",
   "nbconvert_exporter": "python",
   "pygments_lexer": "ipython2",
   "version": "2.7.13"
  }
 },
 "nbformat": 4,
 "nbformat_minor": 2
}
